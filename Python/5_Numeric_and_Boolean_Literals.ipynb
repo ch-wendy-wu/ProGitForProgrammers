{
 "cells": [
  {
   "cell_type": "markdown",
   "id": "a5f688c8",
   "metadata": {},
   "source": [
    "# 5. Numeric and Boolean Literals\n",
    "\n",
    "## 5.1 Integer, Float, and Complex"
   ]
  },
  {
   "cell_type": "code",
   "execution_count": 1,
   "id": "8401dc50",
   "metadata": {},
   "outputs": [
    {
     "name": "stdout",
     "output_type": "stream",
     "text": [
      "a: <class 'int'>\n",
      "b: <class 'int'>\n",
      "c: <class 'float'>\n",
      "d: <class 'float'>\n",
      "e: <class 'float'>\n",
      "f: <class 'complex'>\n",
      "g: <class 'int'>\n",
      "h: <class 'int'>\n",
      "i: <class 'int'>\n"
     ]
    }
   ],
   "source": [
    "a = 45\n",
    "b = -3\n",
    "c = 0.9\n",
    "d = -3.68\n",
    "e = 2.47e+9\n",
    "f = 2 + 10j\n",
    "g = 0b0111\n",
    "h = 0o503\n",
    "i = 0xf7\n",
    "\n",
    "print('a: {}'.format(type(a)))\n",
    "print('b: {}'.format(type(b)))\n",
    "print('c: {}'.format(type(c)))\n",
    "print('d: {}'.format(type(d)))\n",
    "print('e: {}'.format(type(e)))\n",
    "print('f: {}'.format(type(f)))\n",
    "print('g: {}'.format(type(g)))\n",
    "print('h: {}'.format(type(h)))\n",
    "print('i: {}'.format(type(i)))"
   ]
  },
  {
   "cell_type": "markdown",
   "id": "32a3adf3",
   "metadata": {},
   "source": [
    "## 5.2 Boolean"
   ]
  },
  {
   "cell_type": "code",
   "execution_count": 2,
   "id": "eb0ad025",
   "metadata": {},
   "outputs": [
    {
     "name": "stdout",
     "output_type": "stream",
     "text": [
      "<class 'bool'>\n",
      "<class 'NoneType'>\n",
      "<class 'str'>\n"
     ]
    }
   ],
   "source": [
    "print(type(5 < 3))\n",
    "print(type(None))\n",
    "print(type(''))"
   ]
  },
  {
   "cell_type": "code",
   "execution_count": 3,
   "id": "b85c8da9",
   "metadata": {},
   "outputs": [
    {
     "name": "stdout",
     "output_type": "stream",
     "text": [
      "\"5 > 3\" is True.\n",
      "\"5 != 3\" is True.\n",
      "\"5 < 3\" is False.\n",
      "\"True == 1\" is True.\n",
      "\"False == 0\" is True.\n",
      "\"None == ''\" is False.\n"
     ]
    }
   ],
   "source": [
    "print('\"5 > 3\" is {}.'.format(5 > 3))\n",
    "print('\"5 != 3\" is {}.'.format(5 != 3))\n",
    "print('\"5 < 3\" is {}.'.format(5 < 3))\n",
    "print('\"True == 1\" is {}.'.format(True == 1))\n",
    "print('\"False == 0\" is {}.'.format(False == 0))\n",
    "print('\"None == \\'\\'\" is {}.'.format(None == ''))"
   ]
  },
  {
   "cell_type": "code",
   "execution_count": null,
   "id": "7c30fa08",
   "metadata": {},
   "outputs": [],
   "source": []
  }
 ],
 "metadata": {
  "kernelspec": {
   "display_name": "Python 3 (ipykernel)",
   "language": "python",
   "name": "python3"
  },
  "language_info": {
   "codemirror_mode": {
    "name": "ipython",
    "version": 3
   },
   "file_extension": ".py",
   "mimetype": "text/x-python",
   "name": "python",
   "nbconvert_exporter": "python",
   "pygments_lexer": "ipython3",
   "version": "3.9.17"
  }
 },
 "nbformat": 4,
 "nbformat_minor": 5
}

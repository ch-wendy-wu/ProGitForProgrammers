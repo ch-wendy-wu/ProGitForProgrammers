{
 "cells": [
  {
   "cell_type": "markdown",
   "metadata": {},
   "source": [
    "# 4. Varables and Operations\n",
    "\n",
    "## 4.1 Object\n",
    "\n",
    "Each object has its own id, type, and value."
   ]
  },
  {
   "cell_type": "code",
   "execution_count": 1,
   "metadata": {},
   "outputs": [
    {
     "name": "stdout",
     "output_type": "stream",
     "text": [
      "*** Information of Objects ***\n",
      "\n",
      "\"a\" has an id (140602101009776) and is a type of <class 'str'> containing a value of Hello!\n",
      "\"b\" has an id (140602101009776) and is a type of <class 'str'> containing a value of Hello!\n",
      "\"c\" has an id (140602103829040) and is a type of <class 'str'> containing a value of Good morning.\n",
      "\"d\" has an id (140602103458736) and is a type of <class 'int'> containing a value of 2024\n",
      "\"e\" has an id (140602103458384) and is a type of <class 'float'> containing a value of 10.0\n"
     ]
    }
   ],
   "source": [
    "a = b = 'Hello!'\n",
    "c = 'Good morning.'\n",
    "d, e = 2024, 10.0\n",
    "\n",
    "print('*** Information of Objects ***', end='\\n\\n')\n",
    "\n",
    "print('\"a\" has an id ({}) and is a type of {} containing a value of {}'.format(id(a), type(a), a))\n",
    "print('\"b\" has an id ({}) and is a type of {} containing a value of {}'.format(id(b), type(b), b))\n",
    "print('\"c\" has an id ({}) and is a type of {} containing a value of {}'.format(id(c), type(c), c))\n",
    "print('\"d\" has an id ({}) and is a type of {} containing a value of {}'.format(id(d), type(d), d))\n",
    "print('\"e\" has an id ({}) and is a type of {} containing a value of {}'.format(id(e), type(e), e))"
   ]
  },
  {
   "cell_type": "markdown",
   "metadata": {},
   "source": [
    "## 4.2 Arithmatic Operators"
   ]
  },
  {
   "cell_type": "code",
   "execution_count": 2,
   "metadata": {},
   "outputs": [
    {
     "name": "stdout",
     "output_type": "stream",
     "text": [
      "a + b = 14\n",
      "a - b = 8\n",
      "a * b = 33\n",
      "a / b = 3.6666666666666665\n",
      "a % b = 2\n",
      "a ** b = 1331\n",
      "a // b = 3\n"
     ]
    }
   ],
   "source": [
    "a = 11\n",
    "b = 3\n",
    "\n",
    "sum_num = a + b\n",
    "sub_num = a - b\n",
    "mul_num = a * b\n",
    "div_num = a / b\n",
    "mod_num = a % b\n",
    "exp_num = a ** b\n",
    "int_div_num = a // b\n",
    "\n",
    "print('a + b = {}'.format(sum_num))\n",
    "print('a - b = {}'.format(sub_num))\n",
    "print('a * b = {}'.format(mul_num))\n",
    "print('a / b = {}'.format(div_num))\n",
    "print('a % b = {}'.format(mod_num))\n",
    "print('a ** b = {}'.format(exp_num))\n",
    "print('a // b = {}'.format(int_div_num))"
   ]
  },
  {
   "cell_type": "markdown",
   "metadata": {},
   "source": [
    "## 4.3 Comparison Operators"
   ]
  },
  {
   "cell_type": "code",
   "execution_count": 3,
   "metadata": {},
   "outputs": [
    {
     "name": "stdout",
     "output_type": "stream",
     "text": [
      "a == b is False\n",
      "a != b is True\n",
      "a > b is True\n",
      "a < b is False\n",
      "a >= b is True\n",
      "a <= b is False\n"
     ]
    }
   ],
   "source": [
    "a = 11\n",
    "b = 3\n",
    "\n",
    "print('a == b is {}'.format(a == b))\n",
    "print('a != b is {}'.format(a != b))\n",
    "print('a > b is {}'.format(a > b))\n",
    "print('a < b is {}'.format(a < b))\n",
    "print('a >= b is {}'.format(a >= b))\n",
    "print('a <= b is {}'.format(a <= b))"
   ]
  },
  {
   "cell_type": "markdown",
   "metadata": {},
   "source": [
    "## 4.4 Assignment Operators"
   ]
  },
  {
   "cell_type": "code",
   "execution_count": 4,
   "metadata": {},
   "outputs": [
    {
     "name": "stdout",
     "output_type": "stream",
     "text": [
      "1 -> 10 -> 8 -> 24 -> 6.0\n"
     ]
    }
   ],
   "source": [
    "a = 1\n",
    "print(a, end=' -> ')\n",
    "\n",
    "a += 9\n",
    "print(a, end=' -> ')\n",
    "\n",
    "a -= 2\n",
    "print(a, end=' -> ')\n",
    "\n",
    "a *= 3\n",
    "print(a, end=' -> ')\n",
    "\n",
    "a /= 4\n",
    "print(a)"
   ]
  },
  {
   "cell_type": "markdown",
   "metadata": {},
   "source": [
    "## 4.5 Logical Operators"
   ]
  },
  {
   "cell_type": "code",
   "execution_count": 5,
   "metadata": {},
   "outputs": [
    {
     "name": "stdout",
     "output_type": "stream",
     "text": [
      "\"a and b\" is False\n",
      "\"a or b\" is True\n",
      "\"not a\" is False\n",
      "\"not b\" is True\n"
     ]
    }
   ],
   "source": [
    "a = True\n",
    "b = False\n",
    "\n",
    "print('\"a and b\" is {}'.format(a and b))\n",
    "print('\"a or b\" is {}'.format(a or b))\n",
    "print('\"not a\" is {}'.format(not a))\n",
    "print('\"not b\" is {}'.format(not b))"
   ]
  },
  {
   "cell_type": "markdown",
   "metadata": {},
   "source": [
    "## 4.6 Membership Operatiors"
   ]
  },
  {
   "cell_type": "code",
   "execution_count": 6,
   "metadata": {},
   "outputs": [
    {
     "name": "stdout",
     "output_type": "stream",
     "text": [
      "\"a in c\" is True\n",
      "\"b in c\" is False\n",
      "\"a not in c\" is False\n",
      "\"b not in c\" is True\n"
     ]
    }
   ],
   "source": [
    "a = 2\n",
    "b = 100\n",
    "c = [1, 2, 3, 4, 5]\n",
    "\n",
    "print('\"a in c\" is {}'.format(a in c))\n",
    "print('\"b in c\" is {}'.format(b in c))\n",
    "print('\"a not in c\" is {}'.format(a not in c))\n",
    "print('\"b not in c\" is {}'.format(b not in c))"
   ]
  },
  {
   "cell_type": "markdown",
   "metadata": {},
   "source": [
    "## 4.7 Identity Operators"
   ]
  },
  {
   "cell_type": "code",
   "execution_count": 7,
   "metadata": {},
   "outputs": [
    {
     "name": "stdout",
     "output_type": "stream",
     "text": [
      "\"a is b\" is True\n",
      "\"a is c\" is False\n",
      "\"a is not c\" is True\n",
      "\"c is d\" is False\n",
      "\"c is not d\" is True\n"
     ]
    }
   ],
   "source": [
    "a = 'Sunny'\n",
    "b = 'Sunny'\n",
    "c = [1, 2, 3, 4, 5]\n",
    "d = [1, 2, 3, 4, 5]\n",
    "\n",
    "print('\"a is b\" is {}'.format(a is b))\n",
    "print('\"a is c\" is {}'.format(a is c))\n",
    "print('\"a is not c\" is {}'.format(a is not c))\n",
    "print('\"c is d\" is {}'.format(c is d))\n",
    "print('\"c is not d\" is {}'.format(c is not d))"
   ]
  },
  {
   "cell_type": "markdown",
   "metadata": {},
   "source": [
    "## 4.8 Bitwise Operators"
   ]
  },
  {
   "cell_type": "code",
   "execution_count": 8,
   "metadata": {},
   "outputs": [
    {
     "name": "stdout",
     "output_type": "stream",
     "text": [
      "\"a & b\" is 0\n",
      "\"a | b\" is 14\n",
      "\"a ^ b\" is 14\n",
      "\"a >> 2\" is 2\n",
      "\"a << 2\" is 40\n"
     ]
    }
   ],
   "source": [
    "a = 10 #0b1010\n",
    "b = 4 #0b0100\n",
    "\n",
    "print('\"a & b\" is {}'.format(a & b)) #AND\n",
    "print('\"a | b\" is {}'.format(a | b)) #OR\n",
    "print('\"a ^ b\" is {}'.format(a ^ b)) #XOR\n",
    "\n",
    "print('\"a >> 2\" is {}'.format(a >> 2)) #Right shift\n",
    "print('\"a << 2\" is {}'.format(a << 2)) #Left shift"
   ]
  },
  {
   "cell_type": "code",
   "execution_count": null,
   "metadata": {},
   "outputs": [],
   "source": []
  }
 ],
 "metadata": {
  "kernelspec": {
   "display_name": "Python 3 (ipykernel)",
   "language": "python",
   "name": "python3"
  },
  "language_info": {
   "codemirror_mode": {
    "name": "ipython",
    "version": 3
   },
   "file_extension": ".py",
   "mimetype": "text/x-python",
   "name": "python",
   "nbconvert_exporter": "python",
   "pygments_lexer": "ipython3",
   "version": "3.9.17"
  }
 },
 "nbformat": 4,
 "nbformat_minor": 2
}

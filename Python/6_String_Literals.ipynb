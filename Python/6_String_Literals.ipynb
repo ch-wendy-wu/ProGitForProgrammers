{
 "cells": [
  {
   "cell_type": "markdown",
   "id": "990f5f9b",
   "metadata": {},
   "source": [
    "# 6. String, List, and Tuple\n",
    "\n",
    "## 6.1 String"
   ]
  },
  {
   "cell_type": "code",
   "execution_count": 1,
   "id": "f23f062d",
   "metadata": {},
   "outputs": [
    {
     "name": "stdout",
     "output_type": "stream",
     "text": [
      "m\n",
      "i\n",
      "t\n",
      "--------\n",
      "n\n",
      "o\n",
      "--------\n",
      "ochondrion\n",
      "ochondrio\n",
      "ohnro\n",
      "noirdnohcotim\n"
     ]
    }
   ],
   "source": [
    "s1 = 'mitochondrion'\n",
    "\n",
    "print(s1[0])\n",
    "print(s1[1])\n",
    "print(s1[2])\n",
    "print('--------')\n",
    "print(s1[-1])\n",
    "print(s1[-2])\n",
    "print('--------')\n",
    "print(s1[3:])\n",
    "print(s1[3:-1])\n",
    "print(s1[3:-1:2])\n",
    "print(s1[-1::-1])"
   ]
  },
  {
   "cell_type": "code",
   "execution_count": 2,
   "id": "dcf57bd0",
   "metadata": {},
   "outputs": [
    {
     "name": "stdout",
     "output_type": "stream",
     "text": [
      "Hi, Ama!\n",
      "Hi, Ama!!!!!!\n",
      "Hi, Ama!!!!!!\n",
      "\n",
      "\n"
     ]
    }
   ],
   "source": [
    "s2 = 'Hi'\n",
    "s3 = 'Ama'\n",
    "s4 = '!!!'\n",
    "s5 = s2 + ', ' + s3 + s4[0]\n",
    "s6 = s2 + ', ' + s3 + s4*2\n",
    "s7 = s6 + '\\n\\n'\n",
    "\n",
    "print(s5)\n",
    "print(s6)\n",
    "print(s7)"
   ]
  },
  {
   "cell_type": "code",
   "execution_count": 3,
   "id": "309cb980",
   "metadata": {},
   "outputs": [
    {
     "name": "stdout",
     "output_type": "stream",
     "text": [
      "mitochondrion: 13\n"
     ]
    }
   ],
   "source": [
    "print(s1 + ': ' + str(len(s1)))"
   ]
  },
  {
   "cell_type": "code",
   "execution_count": 4,
   "id": "612c5d45",
   "metadata": {},
   "outputs": [
    {
     "name": "stdout",
     "output_type": "stream",
     "text": [
      "hi, ama!!!!!!\n",
      "HI, AMA!!!!!!\n",
      "Hi, Ama♥♥♥\n",
      "['Hi,', 'Ama!!!!!!']\n",
      "Hi, Ama!!!!!!\n"
     ]
    }
   ],
   "source": [
    "print(s6.lower())\n",
    "print(s6.upper())\n",
    "print(s6.replace('!!', '♥'))\n",
    "print(s6.split(' '))\n",
    "print(s7.strip())"
   ]
  },
  {
   "cell_type": "markdown",
   "id": "016b25ec",
   "metadata": {},
   "source": [
    "## 6.2 List"
   ]
  },
  {
   "cell_type": "code",
   "execution_count": 5,
   "id": "46fbf0d7",
   "metadata": {},
   "outputs": [
    {
     "name": "stdout",
     "output_type": "stream",
     "text": [
      "[]\n"
     ]
    }
   ],
   "source": [
    "empty_list = [] # empty_list = list()\n",
    "\n",
    "print(empty_list)"
   ]
  },
  {
   "cell_type": "code",
   "execution_count": 6,
   "id": "94121e92",
   "metadata": {},
   "outputs": [
    {
     "name": "stdout",
     "output_type": "stream",
     "text": [
      "apple\n",
      "10.4\n",
      "(1-3j)\n",
      "--------\n",
      "['apple', 10.4, (1-3j), 1, 3, -2, 8, 9, -10]\n"
     ]
    }
   ],
   "source": [
    "a = ['apple', 10.4, 1-3j]\n",
    "b = [1, 3, -2, 8, 9, -10]\n",
    "\n",
    "print(a[0])\n",
    "print(a[1])\n",
    "print(a[-1])\n",
    "print('--------')\n",
    "print(a + b)"
   ]
  },
  {
   "cell_type": "code",
   "execution_count": 7,
   "id": "3a044eae",
   "metadata": {},
   "outputs": [
    {
     "name": "stdout",
     "output_type": "stream",
     "text": [
      "[1, 3, -2, 8, 9, -10, 20]\n",
      "[1, -2, 8, 9, -10, 20]\n",
      "[1, -2, 8, 9, -10]\n",
      "20\n",
      "[1, 100, -2, 8, 9, -10]\n",
      "[-10, 9, 8, -2, 100, 1]\n",
      "[-10, -2, 1, 8, 9, 100]\n"
     ]
    }
   ],
   "source": [
    "b.append(20)\n",
    "print(b)\n",
    "\n",
    "b.remove(3)\n",
    "print(b)\n",
    "\n",
    "pop = b.pop()\n",
    "print(b)\n",
    "print(pop)\n",
    "\n",
    "b.insert(1, 100)\n",
    "print(b)\n",
    "\n",
    "b.reverse()\n",
    "print(b)\n",
    "\n",
    "b.sort()\n",
    "print(b)"
   ]
  },
  {
   "cell_type": "code",
   "execution_count": 8,
   "id": "8ba226d1",
   "metadata": {},
   "outputs": [
    {
     "name": "stdout",
     "output_type": "stream",
     "text": [
      "['Ama', 'Lulu', 'Judy', 'Three Legs']\n",
      "['Ama', 'Lulu', 'Judy', 'Three Legs', ['Dudu', 'Yozu']]\n"
     ]
    }
   ],
   "source": [
    "c = ['Ama', 'Lulu']\n",
    "d = ['Judy', 'Three Legs']\n",
    "e = ['Dudu', 'Yozu']\n",
    "\n",
    "c.extend(d)\n",
    "print(c)\n",
    "\n",
    "c.append(e)\n",
    "print(c)"
   ]
  },
  {
   "cell_type": "markdown",
   "id": "9d68a699",
   "metadata": {},
   "source": [
    "## 6.3 Tuple"
   ]
  },
  {
   "cell_type": "code",
   "execution_count": 9,
   "id": "dcf3856c",
   "metadata": {},
   "outputs": [
    {
     "name": "stdout",
     "output_type": "stream",
     "text": [
      "1\n",
      "3\n",
      "3\n"
     ]
    }
   ],
   "source": [
    "# this is a tuple\n",
    "a = ('1', '2', '3')\n",
    "print(a[0])\n",
    "print(a[-1])\n",
    "print(len(a))"
   ]
  },
  {
   "cell_type": "code",
   "execution_count": 10,
   "id": "93c820b0",
   "metadata": {},
   "outputs": [
    {
     "name": "stdout",
     "output_type": "stream",
     "text": [
      "('a', 'b', 'c', 1, 2, 3)\n"
     ]
    }
   ],
   "source": [
    "tuple1 = (\"a\", \"b\" , \"c\")\n",
    "tuple2 = (1, 2, 3)\n",
    "\n",
    "tuple3 = tuple1 + tuple2\n",
    "print(tuple3)"
   ]
  },
  {
   "cell_type": "code",
   "execution_count": 11,
   "id": "24dc4acc",
   "metadata": {},
   "outputs": [
    {
     "name": "stdout",
     "output_type": "stream",
     "text": [
      "*** Item Assignment to a List ***\n",
      "[1, 100, 3]\n",
      "\n",
      "*** Item Assignment to a Tuple ***\n",
      "Error message： 'tuple' object does not support item assignment\n"
     ]
    }
   ],
   "source": [
    "my_list = [1,2,3]\n",
    "my_tuple = (1,2,3)\n",
    "\n",
    "print('*** Item Assignment to a List ***')\n",
    "my_list[1] = 100\n",
    "print(my_list, end='\\n\\n')\n",
    "\n",
    "print('*** Item Assignment to a Tuple ***')\n",
    "try:\n",
    "    my_tuple[1] = 100\n",
    "except Exception as e:\n",
    "    print('Error message：', e)\n",
    "else:\n",
    "    print(my_tuple)"
   ]
  },
  {
   "cell_type": "code",
   "execution_count": null,
   "id": "bd45b002",
   "metadata": {},
   "outputs": [],
   "source": []
  }
 ],
 "metadata": {
  "kernelspec": {
   "display_name": "Python 3 (ipykernel)",
   "language": "python",
   "name": "python3"
  },
  "language_info": {
   "codemirror_mode": {
    "name": "ipython",
    "version": 3
   },
   "file_extension": ".py",
   "mimetype": "text/x-python",
   "name": "python",
   "nbconvert_exporter": "python",
   "pygments_lexer": "ipython3",
   "version": "3.9.17"
  }
 },
 "nbformat": 4,
 "nbformat_minor": 5
}

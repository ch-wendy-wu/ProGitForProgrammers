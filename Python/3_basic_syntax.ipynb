{
 "cells": [
  {
   "cell_type": "markdown",
   "metadata": {},
   "source": [
    "# 3. Basic Syntax\n",
    "## 3.1 Keywords"
   ]
  },
  {
   "cell_type": "code",
   "execution_count": 1,
   "metadata": {},
   "outputs": [
    {
     "data": {
      "text/plain": [
       "['False',\n",
       " 'None',\n",
       " 'True',\n",
       " '__peg_parser__',\n",
       " 'and',\n",
       " 'as',\n",
       " 'assert',\n",
       " 'async',\n",
       " 'await',\n",
       " 'break',\n",
       " 'class',\n",
       " 'continue',\n",
       " 'def',\n",
       " 'del',\n",
       " 'elif',\n",
       " 'else',\n",
       " 'except',\n",
       " 'finally',\n",
       " 'for',\n",
       " 'from',\n",
       " 'global',\n",
       " 'if',\n",
       " 'import',\n",
       " 'in',\n",
       " 'is',\n",
       " 'lambda',\n",
       " 'nonlocal',\n",
       " 'not',\n",
       " 'or',\n",
       " 'pass',\n",
       " 'raise',\n",
       " 'return',\n",
       " 'try',\n",
       " 'while',\n",
       " 'with',\n",
       " 'yield']"
      ]
     },
     "execution_count": 1,
     "metadata": {},
     "output_type": "execute_result"
    }
   ],
   "source": [
    "import keyword\n",
    "keyword.kwlist"
   ]
  },
  {
   "cell_type": "code",
   "execution_count": 2,
   "metadata": {},
   "outputs": [
    {
     "name": "stdout",
     "output_type": "stream",
     "text": [
      "\"if\" is a keyword: True\n",
      "\"If\" is a keyword: False\n",
      "\"IF\" is a keyword: False\n"
     ]
    }
   ],
   "source": [
    "answer1 = keyword.iskeyword('if')\n",
    "answer2 = keyword.iskeyword('If')\n",
    "answer3 = keyword.iskeyword('IF')\n",
    "\n",
    "print('\"if\" is a keyword: {:}'.format(answer1))\n",
    "print('\"If\" is a keyword: {:}'.format(answer2))\n",
    "print('\"IF\" is a keyword: {:}'.format(answer3))"
   ]
  },
  {
   "cell_type": "markdown",
   "metadata": {},
   "source": [
    "## 3.2 Identifiers "
   ]
  },
  {
   "cell_type": "code",
   "execution_count": 3,
   "metadata": {},
   "outputs": [
    {
     "name": "stdout",
     "output_type": "stream",
     "text": [
      "\"abc123\" is an idenfifier: True\n",
      "\"123abc\" is an idenfifier: False\n",
      "\"_\" is an idenfifier: True\n",
      "\"if\" is an idenfifier: True\n"
     ]
    }
   ],
   "source": [
    "answer4 = 'abc123'.isidentifier()\n",
    "answer5 = '123abc'.isidentifier()\n",
    "answer6 = '_'.isidentifier()\n",
    "answer7 = 'if'.isidentifier()\n",
    "\n",
    "print('\"abc123\" is an idenfifier: %s' %answer4)\n",
    "print('\"123abc\" is an idenfifier: %s' %answer5)\n",
    "print('\"_\" is an idenfifier: %s' %answer6)\n",
    "print('\"if\" is an idenfifier: %s' %answer7)"
   ]
  },
  {
   "cell_type": "markdown",
   "metadata": {},
   "source": [
    "## 3.3 Basic Operators"
   ]
  },
  {
   "cell_type": "code",
   "execution_count": 4,
   "metadata": {},
   "outputs": [
    {
     "name": "stdout",
     "output_type": "stream",
     "text": [
      "a + b = 9\n",
      "a - b = -5\n",
      "a * b = 14\n",
      "a / b = 0.285714\n",
      "a // b = 0\n",
      "a % b = 2\n",
      "a ** b = 128\n"
     ]
    }
   ],
   "source": [
    "a = 2\n",
    "b = 7\n",
    "\n",
    "print('a + b = %d' %(a + b))\n",
    "print('a - b = %d' %(a - b))\n",
    "print('a * b = %d' %(a * b))\n",
    "print('a / b = %f' %(a / b))\n",
    "print('a // b = %d' %(a // b))\n",
    "print('a %'+' b = %d' %(a % b))\n",
    "print('a ** b = %d' %(a ** b))"
   ]
  },
  {
   "cell_type": "markdown",
   "metadata": {},
   "source": [
    "## 3.4 Print Function"
   ]
  },
  {
   "cell_type": "code",
   "execution_count": 5,
   "metadata": {},
   "outputs": [
    {
     "name": "stdout",
     "output_type": "stream",
     "text": [
      "3 8 11\n"
     ]
    }
   ],
   "source": [
    "a = 3\n",
    "b = 8\n",
    "\n",
    "print(a, b, a+b)"
   ]
  },
  {
   "cell_type": "code",
   "execution_count": 6,
   "metadata": {},
   "outputs": [
    {
     "name": "stdout",
     "output_type": "stream",
     "text": [
      "a is 1, b is 3, and c is 2.\n"
     ]
    }
   ],
   "source": [
    "a = 1\n",
    "b = 3\n",
    "c = 2\n",
    "\n",
    "print('a is {}, b is {}, and c is {}'.format(a, b, c)+'.')"
   ]
  },
  {
   "cell_type": "code",
   "execution_count": 7,
   "metadata": {},
   "outputs": [
    {
     "name": "stdout",
     "output_type": "stream",
     "text": [
      "This is the first line.\n",
      "This is the second line.\n",
      "This is the third line.\n"
     ]
    }
   ],
   "source": [
    "text1 = 'This is the first line.\\nThis is the second line.\\nThis is the third line.'\n",
    "\n",
    "print(text1)"
   ]
  },
  {
   "cell_type": "code",
   "execution_count": 8,
   "metadata": {},
   "outputs": [
    {
     "name": "stdout",
     "output_type": "stream",
     "text": [
      "This is the first line.\\This is the second line.\\This is the third line.\n"
     ]
    }
   ],
   "source": [
    "text2 = 'This is the first line.\\\\This is the second line.\\\\This is the third line.'\n",
    "\n",
    "print(text2)"
   ]
  },
  {
   "cell_type": "code",
   "execution_count": 9,
   "metadata": {},
   "outputs": [
    {
     "name": "stdout",
     "output_type": "stream",
     "text": [
      "This is the first line.\\nThis is the second line.\\nThis is the third line.\n"
     ]
    }
   ],
   "source": [
    "text3 = 'This is the first line.\\\\nThis is the second line.\\\\nThis is the third line.'\n",
    "\n",
    "print(text3)"
   ]
  },
  {
   "cell_type": "code",
   "execution_count": 10,
   "metadata": {},
   "outputs": [
    {
     "name": "stdout",
     "output_type": "stream",
     "text": [
      "This is the first line. This is still the first line.\n",
      "\n",
      "We skipped the second line.\n"
     ]
    }
   ],
   "source": [
    "print('This is the first line.', end=' ')\n",
    "print('This is still the first line.', end='\\n\\n')\n",
    "print('We skipped the second line.')"
   ]
  },
  {
   "cell_type": "markdown",
   "metadata": {},
   "source": [
    "## 3.5 Input Function"
   ]
  },
  {
   "cell_type": "code",
   "execution_count": 11,
   "metadata": {},
   "outputs": [
    {
     "name": "stdout",
     "output_type": "stream",
     "text": [
      "Input number: 10\n",
      "<class 'str'>\n"
     ]
    }
   ],
   "source": [
    "num = input('Input number: ')\n",
    "\n",
    "print(type(num))"
   ]
  },
  {
   "cell_type": "code",
   "execution_count": 12,
   "metadata": {},
   "outputs": [
    {
     "name": "stdout",
     "output_type": "stream",
     "text": [
      "Set width: 2.5\n",
      "Set height: 7.9\n",
      "The area of ractangle is: 19.75\n"
     ]
    }
   ],
   "source": [
    "width = float(input('Set width: '))\n",
    "height = float(input('Set height: '))\n",
    "\n",
    "area = width * height\n",
    "\n",
    "print('The area of ractangle is: {}'.format(area))"
   ]
  },
  {
   "cell_type": "markdown",
   "metadata": {},
   "source": [
    "## Practice 1\n",
    "\n",
    "### Given weight and height of a person,  calculate BMI  \n",
    "Definition: $ \\text{BMI} = \\frac{\\text{weight}}{\\text{height}^2} $\n",
    "\n",
    "### Write a Python program which accepts the radius of a circle from the user and compute the area.  \n",
    "Hint: assume pi = 3.14"
   ]
  },
  {
   "cell_type": "code",
   "execution_count": 13,
   "metadata": {},
   "outputs": [
    {
     "name": "stdout",
     "output_type": "stream",
     "text": [
      "*** BMI Calculator ***\n",
      "Your weight (kg): 48\n",
      "Your height (m): 1.55\n",
      "Your BMI: 19.979188\n"
     ]
    }
   ],
   "source": [
    "print('*** BMI Calculator ***')\n",
    "\n",
    "weight = float(input('Your weight (kg): '))\n",
    "height = float(input('Your height (m): '))\n",
    "\n",
    "bmi = weight / (height ** 2)\n",
    "\n",
    "print('Your BMI: %f' %bmi)"
   ]
  },
  {
   "cell_type": "code",
   "execution_count": 14,
   "metadata": {},
   "outputs": [
    {
     "name": "stdout",
     "output_type": "stream",
     "text": [
      "*** Circle Area Calculator ***\n",
      "Input circle radius: 2.18\n",
      "Circle Area: 14.922536\n"
     ]
    }
   ],
   "source": [
    "print('*** Circle Area Calculator ***')\n",
    "\n",
    "r = float(input('Input circle radius: '))\n",
    "\n",
    "pi = 3.14\n",
    "area = (r ** 2) * pi\n",
    "\n",
    "print('Circle Area: %f' %area)"
   ]
  },
  {
   "cell_type": "markdown",
   "metadata": {},
   "source": [
    "## Practice 2\n",
    "\n",
    "### Please do temperature conversion. Given a Celsius temperature, please change it to Fahrenheit"
   ]
  },
  {
   "cell_type": "code",
   "execution_count": 15,
   "metadata": {},
   "outputs": [
    {
     "name": "stdout",
     "output_type": "stream",
     "text": [
      "*** Celsius to Fahrenheit Convertor ***\n",
      "Input Celsius: 100\n",
      "100.0 degree(s) Celsius = 212.0 degree(s) Fahrenheit\n"
     ]
    }
   ],
   "source": [
    "print('*** Celsius to Fahrenheit Convertor ***')\n",
    "\n",
    "c = float(input('Input Celsius: '))\n",
    "\n",
    "f = (c * 9 / 5) + 32\n",
    "\n",
    "print('{} degree(s) Celsius = {} degree(s) Fahrenheit'.format(c, f))"
   ]
  },
  {
   "cell_type": "code",
   "execution_count": null,
   "metadata": {},
   "outputs": [],
   "source": []
  }
 ],
 "metadata": {
  "kernelspec": {
   "display_name": "Python 3 (ipykernel)",
   "language": "python",
   "name": "python3"
  },
  "language_info": {
   "codemirror_mode": {
    "name": "ipython",
    "version": 3
   },
   "file_extension": ".py",
   "mimetype": "text/x-python",
   "name": "python",
   "nbconvert_exporter": "python",
   "pygments_lexer": "ipython3",
   "version": "3.9.17"
  }
 },
 "nbformat": 4,
 "nbformat_minor": 2
}
